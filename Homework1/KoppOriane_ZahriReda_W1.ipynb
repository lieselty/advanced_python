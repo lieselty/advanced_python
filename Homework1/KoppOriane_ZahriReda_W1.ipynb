{
 "cells": [
  {
   "cell_type": "markdown",
   "metadata": {},
   "source": [
    "<h2><center>Week 1 - Assignment</center></h2>\n",
    "<h3><center>Programming for Data Science 2024</center></h3>"
   ]
  },
  {
   "cell_type": "markdown",
   "metadata": {},
   "source": [
    "Exercises for the topics covered in the first lecture.\n",
    "\n",
    "The exercise will be marked as passed if you get **at least 10/15** points.\n",
    "\n",
    "Exercises must be handed in via **ILIAS** (Homework assignments). Deliver your submission as a compressed file (zip) containing one .py or .ipynb file with all exercises. The name of both the .zip and the .py/.ipynb file must be *SurnameName* of the two members of the group. Example: Riccardo Cusinato + Athina Tzovara = *CusinatoRiccardo_TzovaraAthina.zip* .\n",
    "\n",
    "It's important to use comments to explain your code and show that you're able to take ownership of the exercises and discuss them.\n",
    "\n",
    "You are not expected to collaborate outside of the group on exercises and submitting other groups’ code as your own will result in 0 points.\n",
    "\n",
    "For questions contact: *riccardo.cusinato@unibe.ch* with the subject: *Programming for Data Science 2024*.\n",
    "\n",
    "**Deadline: 14:00, February 29, 2024.**"
   ]
  },
  {
   "cell_type": "markdown",
   "metadata": {},
   "source": [
    "<h3 style=\"text-align:left;\">Exercise 1 - Indentation<span style=\"float: right\">1 point</span></h3>"
   ]
  },
  {
   "cell_type": "markdown",
   "metadata": {},
   "source": [
    "Fix the indentation in the following code. Output should be ”[0, 1, 2]”."
   ]
  },
  {
   "cell_type": "code",
   "execution_count": 2,
   "metadata": {},
   "outputs": [
    {
     "name": "stdout",
     "output_type": "stream",
     "text": [
      "[0, 1, 2]\n"
     ]
    }
   ],
   "source": [
    "N_max = 5\n",
    "n = 0\n",
    "n_list = []\n",
    "\n",
    "for n in range(N_max):\n",
    "\n",
    "    if n < 3: #need indentation because inside the for loop\n",
    "\n",
    "        n_list.append(n) #need double identation because inside the if statment which is inside the for-loop\n",
    "\n",
    "print(n_list)"
   ]
  },
  {
   "cell_type": "markdown",
   "metadata": {},
   "source": [
    "<h3 style=\"text-align:left;\">Exercise 2 - Python variables<span style=\"float: right\">1 point</span></h3>"
   ]
  },
  {
   "cell_type": "markdown",
   "metadata": {},
   "source": [
    "In class, you've seen how Python variables are internally stored. Given the following piece of code, what do you expect to happen? Why? How can you check where the two lists are stored in memory? Comment and write additional code."
   ]
  },
  {
   "cell_type": "code",
   "execution_count": 5,
   "metadata": {},
   "outputs": [
    {
     "name": "stdout",
     "output_type": "stream",
     "text": [
      "2112561433088\n",
      "2112561433088\n",
      "True\n",
      "[1, 2, 3, 4]\n"
     ]
    }
   ],
   "source": [
    "# Define two lists\n",
    "list1 = [1, 2, 3]\n",
    "list2 = list1 #Here, list2 is assigned to list one, which means that both lists point to the same location\n",
    "\n",
    "#check where stored in memory\n",
    "print(id(list1))\n",
    "print(id(list2))\n",
    "print(id(list1) == id(list2))\n",
    "\n",
    "# Append\n",
    "list2.append(4) \n",
    "#list2 and list1 point to the same location, this means that if me do a change (mutation), \n",
    "#all variables pointing to this location will hold the change, so adding 4 to list2 will \"add\" it to list1\n",
    "\n",
    "print(list1)"
   ]
  },
  {
   "cell_type": "markdown",
   "metadata": {},
   "source": [
    "What is the difference between the following list *lst* and tuple *tpl*? Comment."
   ]
  },
  {
   "cell_type": "code",
   "execution_count": 6,
   "metadata": {},
   "outputs": [],
   "source": [
    "lst = [1, 2, 3] #a list is an object that store multiple items. It is mutable, \n",
    "#which means that we can change it, add items, remove items, change order, etc.\n",
    "tpl = (1, 2, 3) #a tuple is very similar to a list, except that it is immutable, \n",
    "#which means that it cannot be changed, we can look at it but not change it. It's needed in some cases like for key in a dictionnary"
   ]
  },
  {
   "cell_type": "markdown",
   "metadata": {},
   "source": [
    "<h3 style=\"text-align:left;\">Exercise 2 - List intersection<span style=\"float: right\">2 points</span></h3>"
   ]
  },
  {
   "cell_type": "markdown",
   "metadata": {},
   "source": [
    "Write a program that takes two lists, and returns another list with the elements common to both of them. Example:\n",
    "```python \n",
    "list1 = [1, 2, 3]\n",
    "list2 = [3, 4, 5]\n",
    "output = [3]\n",
    "```\n",
    "Additionally,\n",
    "- Write the code as a function called *lists_intersection* that takes two lists as input as gives the intersection list as output."
   ]
  },
  {
   "cell_type": "code",
   "execution_count": 10,
   "metadata": {},
   "outputs": [
    {
     "name": "stdout",
     "output_type": "stream",
     "text": [
      "[3]\n"
     ]
    }
   ],
   "source": [
    "def lists_intersection(list1, list2):\n",
    "    \"\"\"\n",
    "    Takes two list of the same size as an input and return the intersection list\n",
    "    \"\"\"\n",
    "    out_list = [] # create an empty list\n",
    "    for l in list1: # loop over the first list\n",
    "        for m in list2: # nested loop over the second list\n",
    "            if l == m: #compare element of the first list with all elements of the second list\n",
    "                out_list.append(l)#if they are identical, append it to the out_list\n",
    "    return out_list #return the out_list\n",
    "\n",
    "#Test\n",
    "list1 = [1,2,3]\n",
    "list2 = [3,4,5]\n",
    "print(lists_intersection(list1, list2)) # prints [3]\n"
   ]
  },
  {
   "cell_type": "markdown",
   "metadata": {},
   "source": [
    "<h3 style=\"text-align:left;\">Exercise 3 - Strings filter<span style=\"float: right\">3 points</span></h3>"
   ]
  },
  {
   "cell_type": "markdown",
   "metadata": {},
   "source": [
    "Write a function named *strings_filter* that takes a list of strings and a number and returns another list with only the strings *shorter* than that number. Example:\n",
    "```python \n",
    "strings_filter([\"Python\", \"hello\", \"C++\"], 4)   # returns [\"C++\"]\n",
    "strings_filter([\"Python\", \"hello\", \"C++\"], 6)   # returns [\"hello\", \"C++\"]\n",
    "```\n",
    "Hint: you can accomplish this using a for loop."
   ]
  },
  {
   "cell_type": "code",
   "execution_count": 6,
   "metadata": {},
   "outputs": [
    {
     "name": "stdout",
     "output_type": "stream",
     "text": [
      "['C++']\n",
      "['hello', 'C++']\n"
     ]
    }
   ],
   "source": [
    "def strings_filter(lst_str, num):\n",
    "    res_lis=[]\n",
    "    for word in lst_str:\n",
    "        if len(word)<num:\n",
    "            res_lis.append(word)\n",
    "    return(res_lis)\n",
    "\n",
    "# testing the function\n",
    "print(strings_filter([\"Python\", \"hello\", \"C++\"], 4))\n",
    "print(strings_filter([\"Python\", \"hello\", \"C++\"], 6))"
   ]
  },
  {
   "cell_type": "markdown",
   "metadata": {},
   "source": [
    "<h3 style=\"text-align:left;\">Exercise 4 - Leap years on Mars<span style=\"float: right\">4 points</span></h3>"
   ]
  },
  {
   "cell_type": "markdown",
   "metadata": {},
   "source": [
    "2024 is a leap year on Earth, meaning a year has one more day (29th of February). On Earth, leap years are those that are divisible by 4 (like 2024, 2028, etc.). \n",
    "\n",
    "On Mars, instead, leap years are those divisible by 6 (like 2028, 2034, etc.), with some exceptions:\n",
    "- if a year is divisible by 120 (e.g. 1680), it's *not* a leap year.\n",
    "- however, if the year is divisible by 600 (e.g. 1800), it *is* a leap year.\n",
    "- finally, years divisible by 36 are *not* leap years.\n",
    "\n",
    "Your task is to write a function named *is_leap_year* that asks the user to input a year, and returns True if it is a leap year on Mars, False otherwise. Example:\n",
    "```python\n",
    "is_leap_year(2028)  # returns True\n",
    "is_leap_year(2024)  # returns False (not divisible by 6)\n",
    "is_leap_year(1680)  # returns False (divisible by 120)\n",
    "is_leap_year(1800)  # returns True (divisible by 600)\n",
    "is_leap_year(2016)  # returns False (is divisible by 36)\n",
    "```\n",
    "N.B. The return type must be *boolean*.\n",
    "\n",
    "Additionally:\n",
    "- add a constrain that prints \"Can't calculate leap year\" if the given year is before 0 or after 5000."
   ]
  },
  {
   "cell_type": "code",
   "execution_count": 25,
   "metadata": {},
   "outputs": [
    {
     "name": "stdout",
     "output_type": "stream",
     "text": [
      "False\n"
     ]
    }
   ],
   "source": [
    "def is_leap_year():\n",
    "    \"\"\"\n",
    "    Ask user to input a year and return True or False, depending on whether the year is a leap year on Mars.\n",
    "    \"\"\"\n",
    "    year = int(input(\"Enter a year: \")) # ask for user input\n",
    "\n",
    "    if year < 0 or year > 5000: #check if the value is outside of the range\n",
    "        print(\"Can't calculate leap year\") \n",
    "        return None\n",
    "    \n",
    "    # The order is important: if the year is divisible by 600 is leap but divisible by 120 is not, \n",
    "    # the division with 600 must be before the one with 120 (because numbers divisible by 600 are also divisible by 120)\n",
    "    # the division with 6 must be the last one since 600, 120 and 36 are divisible by 6\n",
    "    elif year % 600 == 0: #leap year if divisible by 600\n",
    "        return True\n",
    "    elif year % 120 == 0: #not leap year if divisible by 120\n",
    "        return False\n",
    "    elif year % 36 == 0: #not a leap year if divisible by 36\n",
    "        return False\n",
    "    elif year % 6 == 0: #leap year if divisible by 6\n",
    "        return True\n",
    "    else:\n",
    "        return False #nope a leap year otherwise\n"
   ]
  },
  {
   "cell_type": "markdown",
   "metadata": {},
   "source": [
    "<h3 style=\"text-align:left;\">Exercise 5 - Number divisors<span style=\"float: right\">4 points</span></h3>"
   ]
  },
  {
   "cell_type": "markdown",
   "metadata": {},
   "source": [
    "A divisor of a number, is another number that divides the first number without reminder, e.g. 4 is a divisor of 20. 1 and the number itself are always divisors. \n",
    "\n",
    "Write a function named *find_divisors* that takes a number in input and returns *all* its divisors. Example:\n",
    "```python \n",
    "find_divisors(20)  # returns [1, 2, 5, 10, 20]\n",
    "find_divisors(7)  # returns [1, 7]\n",
    "```\n",
    "Additionally:\n",
    "- write a second version of the function called *find_common_divisors* that takes two numbers and returns all the *common* divisors. Example:\n",
    "```python \n",
    "find_common_divisors(20, 30)  # returns [1, 2, 5, 10]\n",
    "find_common_divisors(5, 7)  # returns [1]\n",
    "```\n",
    "Hint: exploit the previous function *find_divisors* to build this one."
   ]
  },
  {
   "cell_type": "code",
   "execution_count": 21,
   "metadata": {},
   "outputs": [
    {
     "name": "stdout",
     "output_type": "stream",
     "text": [
      "[1, 2, 4, 5, 10, 20]\n",
      "[1, 2, 10, 5]\n"
     ]
    }
   ],
   "source": [
    "def find_divisors(num):\n",
    "    res_lis=[]\n",
    "    for i in range(1,num+1):\n",
    "        if num%i==0:\n",
    "            res_lis.append(i)\n",
    "    return(res_lis)\n",
    "\n",
    "#testing function\n",
    "print(find_divisors(20)) # I think it miss the number 4 in the example that you gave\n",
    "\n",
    "def find_common_divisors(num1, num2):\n",
    "    lis1=find_divisors(num1)\n",
    "    lis2=find_divisors(num2)\n",
    "    res=list(set(lis1) & set(lis2)) # using the method of set for keeping only the intersection with \"&\"\n",
    "    return res\n",
    "\n",
    "#testing function\n",
    "print(find_common_divisors(20,30))"
   ]
  }
 ],
 "metadata": {
  "kernelspec": {
   "display_name": "dash",
   "language": "python",
   "name": "python3"
  },
  "language_info": {
   "codemirror_mode": {
    "name": "ipython",
    "version": 3
   },
   "file_extension": ".py",
   "mimetype": "text/x-python",
   "name": "python",
   "nbconvert_exporter": "python",
   "pygments_lexer": "ipython3",
   "version": "3.11.4"
  }
 },
 "nbformat": 4,
 "nbformat_minor": 2
}
