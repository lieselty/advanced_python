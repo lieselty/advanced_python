{
 "cells": [
  {
   "cell_type": "markdown",
   "metadata": {},
   "source": [
    "<h2><center>Week 7 - Assignment</center></h2>\n",
    "<h3><center>Programming for Data Science 2024</center></h3>"
   ]
  },
  {
   "cell_type": "markdown",
   "metadata": {},
   "source": [
    "Exercises for the topics covered in the seventh lecture.\n",
    "\n",
    "The exercise will be marked as passed if you show a reasonable understanding of the plotting concepts covered in the lecture. You do **not** have to make a perfect replica of the example plots to pass.\n",
    "\n",
    "The exercises must be handed in via **ILIAS** (Homework assignments). Deliver your submission as a compressed file (zip) containing:\n",
    "- one .py or .ipynb file with code\n",
    "- the created figure as a *png* file. \n",
    "The name of the .zip **and** the .py/.ipynb file **and** the png file **must** be *SurnameName* of the two members of the group. Example: Riccardo Cusinato + Athina Tzovara = *CusinatoRiccardo_TzovaraAthina.zip* .\n",
    "\n",
    "It's important to use comments to explain your code and show that you're able to take ownership of the exercises and discuss them.\n",
    "\n",
    "You are not expected to collaborate outside of the group on exercises and submitting other groups’ code as your own will result in 0 points.\n",
    "\n",
    "For questions contact: *riccardo.cusinato@unibe.ch* with the subject: *Programming for Data Science 2024*.\n",
    "\n",
    "**Deadline: 14:00, April 18, 2024.**"
   ]
  },
  {
   "cell_type": "markdown",
   "metadata": {},
   "source": [
    "<h3 style=\"text-align:left;\">Exercise - CO2 emissions<span style=\"float: right\"></span></h3>"
   ]
  },
  {
   "cell_type": "markdown",
   "metadata": {},
   "source": [
    "Re-create the plots found in ’plots.png’ using the data found in ’owid-co2-data-reduced.csv’ (source: https://github.com/owid/co2-data).\n",
    "\n",
    "You do not have to make perfect replicas of the plots, but you should show that you are able to use the concepts shown in the lecture. If there are aspects of the plots you consider not to be reproducible given the information provided, comment this in your code. For instance, the size of dots may not be possible to reproduce exactly, and you will be awarded points for showing you are able to modify this parameter, where relevant, and pointing this out in your comments, rather than for reproducing the exact same dot size. The plots are made using matplotlib and seaborn, working on the dataframe.\n",
    "\n",
    "Relevant concepts for exercise completion are:\n",
    "- Saving\n",
    "- Subplots (Object-oriented interface)\n",
    "- Setting colors\n",
    "- Adjusting axes limits\n",
    "- Labels and legend\n",
    "- Using seaborn together with pandas and matplotlib\n",
    "\n",
    "\n",
    "Specific plot types requested:\n",
    "- Line plot\n",
    "- Violin plot\n",
    "- Scatter plot\n",
    "\n",
    "**Useful tips**:\n",
    "- to select only the actual countries, check those that have an *iso_code* in the dataframe.\n",
    "- the values \"per capita\" are obtained by normalizing to the population.\n",
    "- the \"percentage\" values are obtained by normalizing on the total emissions.\n",
    "\n",
    "**NB**: if you do not have seaborn installed, install it through *pip install seaborn*."
   ]
  }
 ],
 "metadata": {
  "kernelspec": {
   "display_name": "dash",
   "language": "python",
   "name": "python3"
  },
  "language_info": {
   "codemirror_mode": {
    "name": "ipython",
    "version": 3
   },
   "file_extension": ".py",
   "mimetype": "text/x-python",
   "name": "python",
   "nbconvert_exporter": "python",
   "pygments_lexer": "ipython3",
   "version": "3.11.7"
  }
 },
 "nbformat": 4,
 "nbformat_minor": 2
}
