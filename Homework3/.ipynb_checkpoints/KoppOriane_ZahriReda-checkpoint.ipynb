{
 "cells": [
  {
   "cell_type": "markdown",
   "metadata": {},
   "source": [
    "<h2><center>Week 3 - Assignment</center></h2>\n",
    "<h3><center>Programming for Data Science 2024</center></h3>"
   ]
  },
  {
   "cell_type": "markdown",
   "metadata": {},
   "source": [
    "Exercises for the topics covered in the third lecture.\n",
    "\n",
    "The exercise will be marked as passed if you get **at least 10/15** points.\n",
    "\n",
    "Exercises must be handed in via **ILIAS** (Homework assignments). Deliver your submission as a compressed file (zip) containing one .py or .ipynb file with all exercises. The name of both the .zip and the .py/.ipynb file must be *SurnameName* of the two members of the group. Example: Riccardo Cusinato + Athina Tzovara = *CusinatoRiccardo_TzovaraAthina.zip* .\n",
    "\n",
    "It's important to use comments to explain your code and show that you're able to take ownership of the exercises and discuss them.\n",
    "\n",
    "You are not expected to collaborate outside of the group on exercises and submitting other groups’ code as your own will result in 0 points.\n",
    "\n",
    "For questions contact: *riccardo.cusinato@unibe.ch* with the subject: *Programming for Data Science 2024*.\n",
    "\n",
    "**Deadline: 14:00, March 14, 2024.**"
   ]
  },
  {
   "cell_type": "markdown",
   "metadata": {},
   "source": [
    "<h3 style=\"text-align:left;\">Exercise 1 - Error investigation<span style=\"float: right\">2 points</span></h3>"
   ]
  },
  {
   "cell_type": "markdown",
   "metadata": {},
   "source": [
    "The code below squares and sums the numbers in the array *arr*, and holds the result in the variable *squared_sum*, which should be 1135. However, that is not the case. Correct the code and explain in a comment , clearly and amply, what was wrong."
   ]
  },
  {
   "cell_type": "code",
   "execution_count": 1,
   "metadata": {},
   "outputs": [
    {
     "data": {
      "text/plain": [
       "1135"
      ]
     },
     "execution_count": 1,
     "metadata": {},
     "output_type": "execute_result"
    }
   ],
   "source": [
    "import numpy as np\n",
    "\n",
    "arr = np.array([13, 14, 15, 16, 17], dtype=np.int64) #correction here, was int8 before \n",
    "squared_sum = np.sum(arr ** 2)\n",
    "squared_sum"
   ]
  },
  {
   "cell_type": "code",
   "execution_count": null,
   "metadata": {},
   "outputs": [],
   "source": [
    "###\n",
    "# As we saw in the lecture, np.int8 can only contain values between -128 and 127. \n",
    "# However, 17**2 is equal to 289, so we have an overflow error (require more memory than available). \n",
    "#To avoid that, we just need to change the type of integer, for example with int64 \n",
    "###"
   ]
  },
  {
   "cell_type": "markdown",
   "metadata": {},
   "source": [
    "<h3 style=\"text-align:left;\">Exercise 2 - Vacation selector<span style=\"float: right\">3 points</span></h3>"
   ]
  },
  {
   "cell_type": "markdown",
   "metadata": {},
   "source": [
    "The code below defines five vacation destinations (*locations*) and four attributes for each (*attributes*). Each row describes one destination, and the columns represent scores on the factors scenery, activities, food, and nightlife.\n",
    "\n",
    "Write a function *vacation_advisor* that asks the user whether they find each of the attributes important or not, and suggests the best vacation spot based on these preferences.\n",
    "\n",
    "Use techniques from the third lecture to solve the exercise.\n",
    "\n",
    "Example interaction:\n",
    "```python\n",
    "Is scenery important to you [y/n]?    > y\n",
    "Is activities important to you [y/n]? > y\n",
    "Is food important to you [y/n]?       > n\n",
    "Is nightlife important to you [y/n]?  > n\n",
    "Based on your preferences, the best destination is Australia\n",
    "```"
   ]
  },
  {
   "cell_type": "code",
   "execution_count": 4,
   "metadata": {},
   "outputs": [],
   "source": [
    "# List of destinations\n",
    "locations = np.array([ \"Hawaii\", \"Thailand\", \"Italy\", \"Australia\", \"Japan\" ])\n",
    "\n",
    "# List of attributes for each destination. Each column is an attribute. Each row a destination.\n",
    "attributes = np.array([\n",
    "    [8, 8, 7, 6],\n",
    "    [7, 9, 8, 7],\n",
    "    [8, 6, 9, 7],\n",
    "    [9, 8, 8, 6],\n",
    "    [7, 9, 7, 8]\n",
    "])\n",
    "\n",
    "# Declare attribute names and initialize boolean array with preferences\n",
    "attribute_names = ['scenery', 'activities', 'food', 'nightlife']"
   ]
  },
  {
   "cell_type": "code",
   "execution_count": 5,
   "metadata": {},
   "outputs": [
    {
     "name": "stdout",
     "output_type": "stream",
     "text": [
      "Based on your preferences, the best destination is Australia\n"
     ]
    }
   ],
   "source": [
    "def vacation_advisor():\n",
    "    \"\"\"\n",
    "    Ask some questions to the user and return the best destination\n",
    "    \"\"\"\n",
    "    mask = np.zeros(attributes.shape[1], dtype=bool) # initialize the mask (boolean type) with the same number of columns as attributes\n",
    "    # depending of the user input, define if the corresponding value of the mask is True or False\n",
    "    mask[0] = input(\"Is scenery important to you [y/n]? \") == \"y\" \n",
    "    mask[1] = input(\"Is activities important to you [y/n]? \") == \"y\"\n",
    "    mask[2] = input(\"Is food important to you [y/n]? \") == \"y\"\n",
    "    mask[3] = input(\"Is nightlife important to you [y/n]? \") == \"y\"\n",
    "    # if everything is true, there are 3 possibilites\n",
    "    if np.all(mask):\n",
    "        print(f\"Based on your preferences, the best destinations are either Thaïland, Australia or Japan\")\n",
    "    # if everything is false, then we can't suggest a best destination\n",
    "    elif np.all(mask==False):\n",
    "        print(f\"Based on your preferences, the best destination is nowhere...\")\n",
    "    # else: \n",
    "    else: \n",
    "        sum_row = np.sum(attributes[:,mask], axis=1) # select all rows of attributes but only the columns where mask is true and do the sum for each row\n",
    "        index_max_sum_row = np.argmax(sum_row) # take the index of the maximum sum\n",
    "        print(f\"Based on your preferences, the best destination is {locations[index_max_sum_row]}\") # print the best destination using the index\n",
    "\n",
    "vacation_advisor()"
   ]
  },
  {
   "cell_type": "markdown",
   "metadata": {},
   "source": [
    "<h3 style=\"text-align:left;\">Exercise 3 - Indexing<span style=\"float: right\">3 points</span></h3>"
   ]
  },
  {
   "cell_type": "markdown",
   "metadata": {},
   "source": [
    "You have two arrays of the same length: temperature *temp*, and humidity, *rh*. Write a program that:\n",
    "1) Substitutes the values of *temp* for which the corresponding values of *rh* is less than 0.3 with *np.nan*.\n",
    "2) On this new temperature array, calculate the mean value (do **not** calculate it on the original array).\n",
    "\n",
    "As an example:\n",
    "\n",
    "```python\n",
    "temp = [70, 80, 90]\n",
    "rh = [0.5, 0.2, 0.6]\n",
    "\n",
    "temp_nan --> [70, np.nan, 90]\n",
    "temp_avg --> 80\n",
    "```"
   ]
  },
  {
   "cell_type": "code",
   "execution_count": 7,
   "metadata": {},
   "outputs": [
    {
     "name": "stdout",
     "output_type": "stream",
     "text": [
      "<class 'numpy.ndarray'>\n"
     ]
    }
   ],
   "source": [
    "# Generate some surrogate data\n",
    "\n",
    "np.random.seed(420)  # Make sure we all have the same data\n",
    "temp = 20 * np.cos(np.linspace(0, 2 * np.pi, 100)) + 80 + 2 * np.random.randn(100)\n",
    "rh = np.abs(0.1 * np.cos(np.linspace(0, 4 * np.pi, 100)) \n",
    "            + 0.3 + 0.05 * np.random.randn(100))"
   ]
  },
  {
   "cell_type": "code",
   "execution_count": 33,
   "metadata": {},
   "outputs": [
    {
     "name": "stdout",
     "output_type": "stream",
     "text": [
      "[100.80608254 100.42365343          nan  97.34895106  99.28378744]\n",
      "[100.80608254 100.42365343  98.52308703  97.34895106  99.28378744]\n",
      "[0.32611461 0.33361994 0.29817462 0.37445786 0.44330325]\n",
      "79.00078388998652\n"
     ]
    }
   ],
   "source": [
    "temp_nan = temp.copy() # make a copy of temp\n",
    "temp_nan[rh<0.3] = np.nan # change all the values of temp_nan where the corresponding value of rh is smaller than 0.3 to np.nan\n",
    "temp_avg = np.nanmean(temp_nan) # calcul the mean of temp_nan, ignoring the np.nan\n",
    "\n",
    "print(f\"{temp_nan[5:10]}\\n{temp[5:10]}\\n{rh[5:10]}\\n{temp_avg}\") # check a slice with a value of rh smaller than 0.3 to see if it worked\n"
   ]
  },
  {
   "cell_type": "markdown",
   "metadata": {},
   "source": [
    "<h3 style=\"text-align:left;\">Exercise 4 - Base converter<span style=\"float: right\">2 points</span></h3>"
   ]
  },
  {
   "cell_type": "markdown",
   "metadata": {},
   "source": [
    "Write a function *int_to_bin* that takes a positive integer as input and returns the binary equivalent of that integer.\n",
    "\n",
    "You can **not** use built-in methods such as *bin()* in your solution."
   ]
  },
  {
   "cell_type": "code",
   "execution_count": 10,
   "metadata": {},
   "outputs": [
    {
     "data": {
      "text/plain": [
       "110100100"
      ]
     },
     "execution_count": 10,
     "metadata": {},
     "output_type": "execute_result"
    }
   ],
   "source": [
    "def int_to_bin(pos_int):\n",
    "    if pos_int<=0:\n",
    "        return False\n",
    "    else:\n",
    "        binary = '' #we start writing the binary in a string type\n",
    "        while pos_int > 0:\n",
    "            binary = str(pos_int % 2) + binary #so we reach the reminder of the division : 0 or 1 that we add to the FRONT of the str binary\n",
    "            pos_int = pos_int // 2 #once done, we substract the \"whole\" division by 2 from pos_int\n",
    "    return int(binary) #converting finally to an integer instead of a str\n",
    "\n",
    "#testing the function for 420 it should return : 110100100 (Source: https://calculat.io/en/number/dec-to-bin/420)\n",
    "int_to_bin(420)"
   ]
  },
  {
   "cell_type": "markdown",
   "metadata": {},
   "source": [
    "<h3 style=\"text-align:left;\">Exercise 5 - Broadcasting<span style=\"float: right\">2 points</span></h3>"
   ]
  },
  {
   "cell_type": "markdown",
   "metadata": {},
   "source": [
    "Reshape *a* so it is possible to multiply *a* and *b*, and explain why you had to reshape *a* to be able to multiply the two arrays."
   ]
  },
  {
   "cell_type": "code",
   "execution_count": 9,
   "metadata": {},
   "outputs": [
    {
     "name": "stdout",
     "output_type": "stream",
     "text": [
      "Shape of a: (2, 3)\n",
      "Shape of b: (2,)\n",
      "Shape of a after reshaping: (3, 2)\n"
     ]
    },
    {
     "data": {
      "text/plain": [
       "array([[ 2,  6],\n",
       "       [ 6, 12],\n",
       "       [10, 18]])"
      ]
     },
     "execution_count": 9,
     "metadata": {},
     "output_type": "execute_result"
    }
   ],
   "source": [
    "import numpy as np\n",
    "\n",
    "a = np.array([[1, 2, 3], [4, 5, 6]])\n",
    "b = np.array([2, 3])\n",
    "\n",
    "print(f\"Shape of a: {a.shape}\")\n",
    "print(f\"Shape of b: {b.shape}\")\n",
    "\n",
    "#reshaping a\n",
    "a=a.reshape((3,2))\n",
    "\n",
    "print(f\"Shape of a after reshaping: {a.shape}\")\n",
    "\n",
    "#checking the result\n",
    "a*b\n"
   ]
  },
  {
   "cell_type": "code",
   "execution_count": null,
   "metadata": {},
   "outputs": [],
   "source": [
    "###\n",
    "# Following the broadcasting rules, without reshaping we can't multiply the array because:\n",
    "# rule 1: b (the array with fewer dimension) would become (1,2) (padded with ones on the leading side)\n",
    "# rule 2: b would become (2,2) (array with shape 1 is streched to map the other array)\n",
    "# rule 3: since a is of shape (2,3) and now b is of shape (2,2), the second dimension disagree and neither is equal to one so we have an error\n",
    "# so we reshape a so it becomes (3,2) and now with rule 1, b is of shape (1,2) and with rule two (3,2), and now dimensions agree so it works! \n",
    "###"
   ]
  },
  {
   "cell_type": "markdown",
   "metadata": {},
   "source": [
    "<h3 style=\"text-align:left;\">Exercise 6 - Moving average<span style=\"float: right\">3 points</span></h3>"
   ]
  },
  {
   "cell_type": "markdown",
   "metadata": {},
   "source": [
    "Given the array of values, *a*, we can calculate the moving average by averaging nearby values and repeating the procedure sliding along the array. Here's an example of a 3-point moving average (ignoring the edges), with a for loop:"
   ]
  },
  {
   "cell_type": "code",
   "execution_count": 52,
   "metadata": {},
   "outputs": [
    {
     "name": "stdout",
     "output_type": "stream",
     "text": [
      "[29.  26.2 28.9 29.4 30.7 31.9 28.9 29.6 32.6 33.4 28.5 28.5 29.1 25.7\n",
      " 31.  30.8 28.6 31.4 29.3 33.1]\n",
      "[29.         28.03333333 28.16666667 29.66666667 30.66666667 30.5\n",
      " 30.13333333 30.36666667 31.86666667 31.5        30.13333333 28.7\n",
      " 27.76666667 28.6        29.16666667 30.13333333 30.26666667 29.76666667\n",
      " 31.26666667 33.1       ]\n"
     ]
    }
   ],
   "source": [
    "np.random.seed(420)\n",
    "a = np.round(30 + np.random.randn(20) * 2, 1)\n",
    "print(a)\n",
    "\n",
    "# Moving average\n",
    "a_avg = np.zeros_like(a)\n",
    "# We're just ignoring the edge effects here\n",
    "for i in range(1, len(a) - 1):\n",
    "    sub = a[i - 1:i + 2]\n",
    "    a_avg[i] = sub.mean()\n",
    "# For the first and last point, we use the original values.\n",
    "a_avg[[0, -1]] = a[[0, -1]]\n",
    "print(a_avg)"
   ]
  },
  {
   "cell_type": "markdown",
   "metadata": {},
   "source": [
    "Write a function *mov_avg* that takes an array in input and returns its 3-point moving average. You **have to use broadcasting** to compute the moving average. As in the example, use the original array values at the borders."
   ]
  },
  {
   "cell_type": "code",
   "execution_count": 62,
   "metadata": {},
   "outputs": [
    {
     "name": "stdout",
     "output_type": "stream",
     "text": [
      "The two averages vector are really similar or even equal\n"
     ]
    }
   ],
   "source": [
    "def mov_avg(array):\n",
    "    #creating the second array with 1/3 of the values to compute the sum of it --> (sum of 3 numbers)/3 = mean of these 3 numbers\n",
    "    second_array=np.array([1/3,1/3,1/3])\n",
    "    #creating the result array, starting with an array of the same size and equals the same, but as a copy to modify it later\n",
    "    res_array=np.copy(array) #that way the edges are already done\n",
    "    for i in range(1, len(array)-1):\n",
    "        sub=array[i - 1:i + 2]\n",
    "        res_array[i]=sum(second_array*sub) #using broadcasting by multiply the sub with the second array\n",
    "    return(res_array)\n",
    "\n",
    "    \n",
    "# testing with the example above\n",
    "np.random.seed(420)\n",
    "a = np.round(30 + np.random.randn(20) * 2, 1)\n",
    "a_avg2=mov_avg(a)\n",
    "#checking if the results are the same\n",
    "res=True\n",
    "for i in range(len(a)):\n",
    "    if a_avg[i] - a_avg2[i] > 0.00001 : #because of floats value, we cannot compare the value directly between each other\n",
    "        res=False\n",
    "if res :\n",
    "    print(\"The two averages vector are really similar or even equal\")\n",
    "else:\n",
    "    print(\"There is an error in the mov_avg that creates another vector which is different compare to the example\")"
   ]
  }
 ],
 "metadata": {
  "kernelspec": {
   "display_name": "Python 3 (ipykernel)",
   "language": "python",
   "name": "python3"
  },
  "language_info": {
   "codemirror_mode": {
    "name": "ipython",
    "version": 3
   },
   "file_extension": ".py",
   "mimetype": "text/x-python",
   "name": "python",
   "nbconvert_exporter": "python",
   "pygments_lexer": "ipython3",
   "version": "3.12.1"
  }
 },
 "nbformat": 4,
 "nbformat_minor": 4
}
