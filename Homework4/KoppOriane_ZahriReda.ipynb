{
 "cells": [
  {
   "cell_type": "markdown",
   "metadata": {},
   "source": [
    "<h2><center>Week 4 - Assignment</center></h2>\n",
    "<h3><center>Programming for Data Science 2024</center></h3>"
   ]
  },
  {
   "cell_type": "markdown",
   "metadata": {},
   "source": [
    "Exercises for the topics covered in the fourth lecture.\n",
    "\n",
    "The exercise will be marked as passed if you get **at least 10/15** points.\n",
    "\n",
    "Exercises must be handed in via **ILIAS** (Homework assignments). Deliver your submission as a compressed file (zip) containing one .py or .ipynb file with all exercises. The name of both the .zip and the .py/.ipynb file **must** be *SurnameName* of the two members of the group. Example: Riccardo Cusinato + Athina Tzovara = *CusinatoRiccardo_TzovaraAthina.zip* .\n",
    "\n",
    "It's important to use comments to explain your code and show that you're able to take ownership of the exercises and discuss them.\n",
    "\n",
    "You are not expected to collaborate outside of the group on exercises and submitting other groups’ code as your own will result in 0 points.\n",
    "\n",
    "For questions contact: *riccardo.cusinato@unibe.ch* with the subject: *Programming for Data Science 2024*.\n",
    "\n",
    "**Deadline: 14:00, March 21, 2024.**"
   ]
  },
  {
   "cell_type": "markdown",
   "metadata": {},
   "source": [
    "<h3 style=\"text-align:left;\">Exercise 1 - Create Dataframes<span style=\"float: right\">5 points</span></h3>"
   ]
  },
  {
   "cell_type": "markdown",
   "metadata": {},
   "source": [
    "Create a DataFrame *episodes_df* with the columns **ses**, **ep**, and **title**, as below:\n",
    "\n",
    "|**ses**|**ep**|**title**|\n",
    "|:---|:---|:---|\n",
    "|1|1|One|\n",
    "|1|2|Two|\n",
    "|2|1|Three|\n",
    "|2|2|Four|\n",
    "\n",
    "Create a DataFrame *imdb_df* with the columns **ses**, **ep**, and **score**, as below:\n",
    "\n",
    "|**ses**|**ep**|**score**|\n",
    "|:---|:---|:---|\n",
    "|1|1|8.4|\n",
    "|1|2|8.1|\n",
    "|2|1|7.9|\n",
    "|2|2|7.7|\n",
    "\n",
    "Merge the two DataFrames. Then, find and print the title of the episode with the higest score.\n",
    "\n",
    "**NB**: To merge the two dataframes you have to use the *merge* method:\n",
    "```python\n",
    "merged_df = episodes_df.merge(imdb_df, on=['ses', 'ep'])\n",
    "```\n",
    "\n",
    "\n",
    "1. By manipulating the dataframes, find and print the title of the episode with the higest score. (*3 points*)"
   ]
  },
  {
   "cell_type": "code",
   "execution_count": 43,
   "metadata": {},
   "outputs": [
    {
     "name": "stdout",
     "output_type": "stream",
     "text": [
      "The title of the episode with the highest score is : One\n"
     ]
    }
   ],
   "source": [
    "#loading packages\n",
    "import numpy as np\n",
    "import pandas as pd\n",
    "\n",
    "#creating first each columns in Series before to merge everything\n",
    "ses=pd.Series([1,1,2,2])\n",
    "ep=pd.Series([1,2,1,2])\n",
    "title=pd.Series([\"One\", \"Two\", \"Three\", \"Four\"])\n",
    "score=pd.Series([8.4,8.1,7.9,7.7])\n",
    "\n",
    "#creating the dataframes\n",
    "episodes_df=pd.DataFrame({\"ses\": ses, \"ep\": ep, \"title\":title})\n",
    "imdb_df=pd.DataFrame({\"ses\": ses, \"ep\": ep, \"score\":score})\n",
    "\n",
    "#merging the 2 dataframes\n",
    "merged_df=episodes_df.merge(imdb_df, on=[\"ses\", \"ep\"])\n",
    "\n",
    "#finding title of highest score episode\n",
    "highest_score=merged_df.nlargest(1, 'score') #nlargest will find the line where the value is the highest on the column \"score\" here, the 1 is for the number of lines for the output\n",
    "title_highest_score=highest_score[\"title\"].values[0] #here the bracket will find the specific column and the value 0 is to extract the only value from the output of the .values method\n",
    "#finding max in a more intuitive way\n",
    "max=merged_df[\"score\"].max()\n",
    "title_max=merged_df[merged_df[\"score\"]==max][\"title\"][0] #same here we select the corresponding row then the column \"title\" and select the 1st element [0] to have the value \"One\"\n",
    "\n",
    "\n",
    "#printing the line\n",
    "if title_max == title_highest_score:\n",
    "    print(fr\"The title of the episode with the highest score is : {title_highest_score}\")\n",
    "else:\n",
    "    print(\"There is an error in the code, go correct it !\")\n",
    "\n"
   ]
  },
  {
   "cell_type": "markdown",
   "metadata": {},
   "source": [
    "2. Change the **score** of the entry with the title \"Three\" in the DataFrame you created in Task 1 and print the result. The new score should be 6. (*2 points*)"
   ]
  },
  {
   "cell_type": "code",
   "execution_count": 44,
   "metadata": {},
   "outputs": [
    {
     "name": "stdout",
     "output_type": "stream",
     "text": [
      "   ses  ep  title  score\n",
      "0    1   1    One    8.4\n",
      "1    1   2    Two    8.1\n",
      "2    2   1  Three    6.0\n",
      "3    2   2   Four    7.7\n"
     ]
    },
    {
     "name": "stderr",
     "output_type": "stream",
     "text": [
      "C:\\Users\\redaz\\AppData\\Local\\Temp\\ipykernel_18088\\415805914.py:2: SettingWithCopyWarning: \n",
      "A value is trying to be set on a copy of a slice from a DataFrame\n",
      "\n",
      "See the caveats in the documentation: https://pandas.pydata.org/pandas-docs/stable/user_guide/indexing.html#returning-a-view-versus-a-copy\n",
      "  merged_df[\"score\"][2]=6 #select the column score on the 3rd value [2] that we assign to a 6 (int or float doesn't matter, it will be converted later)\n"
     ]
    }
   ],
   "source": [
    "merged_df # third row --> 2 index with the score of 6\n",
    "merged_df[\"score\"][2]=6 #select the column score on the 3rd value [2] that we assign to a 6 (int or float doesn't matter, it will be converted later)\n",
    "\n",
    "#check if dataframe is changed\n",
    "print(merged_df)"
   ]
  },
  {
   "cell_type": "markdown",
   "metadata": {},
   "source": [
    "<h3 style=\"text-align:left;\">Exercise 2 - Load DataFrames<span style=\"float: right\">6 points</span></h3>"
   ]
  },
  {
   "cell_type": "markdown",
   "metadata": {},
   "source": [
    "1. Load the two CSV files 'silicon_valley_episodes.csv' and 'silicon_valley_imdb.csv', found in the \"data\" directory, as DataFrames. Merge the two DataFrames as in the first task, using **season** and **episode_num** as keys to merge on. (*2 points*)\n",
    "```python\n",
    "episodes_df = pd.read_csv('./data/silicon_valley_episodes.csv')\n",
    "imdb_df = pd.read_csv('./data/silicon_valley_imdb.csv')\n",
    "```"
   ]
  },
  {
   "cell_type": "code",
   "execution_count": 19,
   "metadata": {},
   "outputs": [],
   "source": [
    "#I moved the data files in the same folder in case\n",
    "#Don't forget to set the workspace first, then we can use relative path to import data files\n",
    "episodes_df = pd.read_csv('./silicon_valley_episodes.csv') \n",
    "imdb_df = pd.read_csv('./silicon_valley_imdb.csv')\n",
    "\n",
    "#merging the two datasets\n",
    "merged_df=episodes_df.merge(imdb_df, on=[\"season\", \"episode_num\"])\n",
    "\n",
    "#checking the new df\n",
    "#merged_df"
   ]
  },
  {
   "cell_type": "markdown",
   "metadata": {},
   "source": [
    "2. Create a new DataFrame, called **df_best**, containing only the episodes with an **imdb_rating** at or above 9. Use the DataFrame created in the previous task as a starting point. (*2 points*)"
   ]
  },
  {
   "cell_type": "code",
   "execution_count": 25,
   "metadata": {},
   "outputs": [],
   "source": [
    "#using a mask to select (value True or False) the specific values where imdb rate >= 9\n",
    "df_best=merged_df[merged_df[\"imdb_rating\"]>=9]"
   ]
  },
  {
   "cell_type": "markdown",
   "metadata": {},
   "source": [
    "3. Find mean number of **us_viewers** for episodes with an IMDB score greater than or equal to 9, and for episodes with an IMDB score lower than 9, and print the means. (*2 points*)"
   ]
  },
  {
   "cell_type": "code",
   "execution_count": 31,
   "metadata": {},
   "outputs": [
    {
     "name": "stdout",
     "output_type": "stream",
     "text": [
      "The df_best mean is : 1519000.0 and the mean of the lower IMDB score films is : 1234000.0\n"
     ]
    }
   ],
   "source": [
    "#creating first the inverse dataframe than df_best : df_worst\n",
    "df_worst=merged_df[merged_df[\"imdb_rating\"]<9]\n",
    "\n",
    "#create a small dictionnary for the 2 means\n",
    "means=dict()\n",
    "#mean of us viewers and assign it to the related key in the means dictionnary created above\n",
    "means[\"df_best\"]=df_best[\"us_viewers\"].mean()\n",
    "means[\"df_worst\"]=df_worst[\"us_viewers\"].mean()\n",
    "\n",
    "#checking our dictionnary\n",
    "print(fr\"The df_best mean is : {means['df_best']} and the mean of the lower IMDB score films is : {means['df_worst']}\")"
   ]
  },
  {
   "cell_type": "markdown",
   "metadata": {},
   "source": [
    "<h3 style=\"text-align:left;\">Exercise 3 - DataFrames Ufuncs<span style=\"float: right\">4 points</span></h3>"
   ]
  },
  {
   "cell_type": "markdown",
   "metadata": {},
   "source": [
    "Create the two dataframe *df1* and *df2* with the following code:"
   ]
  },
  {
   "cell_type": "code",
   "execution_count": 45,
   "metadata": {},
   "outputs": [
    {
     "name": "stdout",
     "output_type": "stream",
     "text": [
      "   a  b  c\n",
      "1  1  2  3\n",
      "2  4  5  6\n",
      "3  7  8  9\n",
      "     a    b    d\n",
      "1  0.5  1.0  1.5\n",
      "2  2.0  2.5  3.0\n",
      "4  3.5  4.0  4.5\n"
     ]
    }
   ],
   "source": [
    "import numpy as np\n",
    "import pandas as pd\n",
    "\n",
    "df1 = pd.DataFrame(\n",
    "    np.arange(1, 10).reshape(3, 3),\n",
    "    columns=[\"a\", \"b\", \"c\"],\n",
    "    index=[\"1\", \"2\", \"3\"]\n",
    ")\n",
    "\n",
    "df2 = pd.DataFrame(\n",
    "    np.arange(1, 10).reshape(3, 3) / 2,\n",
    "    columns=[\"a\", \"b\", \"d\"],\n",
    "    index=[\"1\", \"2\", \"4\"]\n",
    ")\n",
    "print(f\"{df1}\\n{df2}\")"
   ]
  },
  {
   "cell_type": "markdown",
   "metadata": {},
   "source": [
    "1. Add the two dataframes together, with the appropriate pandas method, and print the result. (*0.5 points*)"
   ]
  },
  {
   "cell_type": "code",
   "execution_count": 47,
   "metadata": {},
   "outputs": [
    {
     "name": "stdout",
     "output_type": "stream",
     "text": [
      "     a    b   c   d\n",
      "1  1.5  3.0 NaN NaN\n",
      "2  6.0  7.5 NaN NaN\n",
      "3  NaN  NaN NaN NaN\n",
      "4  NaN  NaN NaN NaN\n"
     ]
    }
   ],
   "source": [
    "df_sum = df1.add(df2)\n",
    "print(f\"{df_sum}\")"
   ]
  },
  {
   "cell_type": "markdown",
   "metadata": {},
   "source": [
    "2. Add the underlying numpy objects of the two dataframes, and print the result. (*0.5 points*)"
   ]
  },
  {
   "cell_type": "code",
   "execution_count": 18,
   "metadata": {},
   "outputs": [
    {
     "name": "stdout",
     "output_type": "stream",
     "text": [
      "[[ 1.5  3.   4.5]\n",
      " [ 6.   7.5  9. ]\n",
      " [10.5 12.  13.5]]\n"
     ]
    }
   ],
   "source": [
    "df1_numpy = df1.to_numpy()\n",
    "df2_numpy = df2.to_numpy()\n",
    "df_numpy_sum = np.add(df1_numpy, df2_numpy)\n",
    "print(f\"{df_numpy_sum}\")"
   ]
  },
  {
   "cell_type": "markdown",
   "metadata": {},
   "source": [
    "3. Compare the two results that you obtained and comment if and **why** they are different. (*3 points*)"
   ]
  },
  {
   "cell_type": "code",
   "execution_count": null,
   "metadata": {},
   "outputs": [],
   "source": [
    "# DataFrames: The sum will be made according to the indicies. We have 'a','b','c' and '1','2','3' in df1, but 'a','b','d' and '1','2','4' in df2, so only the values with the same indices\n",
    "# will be sumed (values in 'a','b', '1','2'). The rest will be filled with NaN\n",
    "#\n",
    "# Numpy objects: The numpy objects won't hold the indicies specified when creating the DataFrames, so since both objects have the same size, they will be summed as two 3x3 objects. The column 'd' will be sum\n",
    "# with the column 'c' because in their numpy version, they both are the third column, not 'd' and 'c'. \n",
    "#\n",
    "# Why are they different: because of indicies, dataframes are summed according to thier indicies that we specified, when transformed to numpy object, those indicies are not kept but now depend on the position \n",
    "# in the object, and will sum according to that."
   ]
  }
 ],
 "metadata": {
  "kernelspec": {
   "display_name": "Python 3 (ipykernel)",
   "language": "python",
   "name": "python3"
  },
  "language_info": {
   "codemirror_mode": {
    "name": "ipython",
    "version": 3
   },
   "file_extension": ".py",
   "mimetype": "text/x-python",
   "name": "python",
   "nbconvert_exporter": "python",
   "pygments_lexer": "ipython3",
   "version": "3.12.1"
  }
 },
 "nbformat": 4,
 "nbformat_minor": 4
}
